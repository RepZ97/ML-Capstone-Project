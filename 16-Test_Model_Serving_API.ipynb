{
 "cells": [
  {
   "cell_type": "code",
   "execution_count": 6,
   "metadata": {},
   "outputs": [
    {
     "name": "stdout",
     "output_type": "stream",
     "text": [
      "{\n",
      "  \"prediction\": \"1.359538017595223 %\"\n",
      "}\n",
      "\n"
     ]
    }
   ],
   "source": [
    "import requests\n",
    "\n",
    "url = 'http://127.0.0.1:5001/classifier'\n",
    "\n",
    "payload = {'HeartDisease': 'No',\n",
    " 'BMI': 20.37,\n",
    " 'Smoking': 'No',\n",
    " 'AlcoholDrinking': 'No',\n",
    " 'Stroke': 'No',\n",
    " 'PhysicalHealth': 0.0,\n",
    " 'MentalHealth': 2.0,\n",
    " 'DiffWalking': 'No',\n",
    " 'Sex': 'Female',\n",
    " 'AgeCategory': '40-44',\n",
    " 'Race': 'White',\n",
    " 'Diabetic': 'No',\n",
    " 'PhysicalActivity': 'Yes',\n",
    " 'GenHealth': 'Excellent',\n",
    " 'SleepTime': 7.0,\n",
    " 'Asthma': 'No',\n",
    " 'KidneyDisease': 'No',\n",
    " 'SkinCancer': 'No'}    \n",
    "\n",
    "headers = {}\n",
    "\n",
    "files=[\n",
    "\n",
    "]\n",
    "\n",
    "response = requests.request(\"POST\", url, headers=headers, data=payload, files=files)\n",
    "\n",
    "print(response.text)"
   ]
  }
 ],
 "metadata": {
  "interpreter": {
   "hash": "96eb50e1d44aed467dc8f759cb08c32fbfa9babcf79c554e2d0e5feb04653a10"
  },
  "kernelspec": {
   "display_name": "Python 3.9.7 ('base')",
   "language": "python",
   "name": "python3"
  },
  "language_info": {
   "codemirror_mode": {
    "name": "ipython",
    "version": 3
   },
   "file_extension": ".py",
   "mimetype": "text/x-python",
   "name": "python",
   "nbconvert_exporter": "python",
   "pygments_lexer": "ipython3",
   "version": "3.9.7"
  },
  "orig_nbformat": 4
 },
 "nbformat": 4,
 "nbformat_minor": 2
}
